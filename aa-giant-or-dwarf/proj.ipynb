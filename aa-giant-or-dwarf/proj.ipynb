{
 "cells": [
  {
   "cell_type": "markdown",
   "id": "retained-jungle",
   "metadata": {},
   "source": [
    "# ML Project 1: Star Categorization Giants and Dwarfs \n",
    "\n",
    "The main objective of this project is to perform a binary classification by identifying Giants and Dwarfs using different classification methods such as Logistic Regression, Neural Networks and Support Vector Machines (SVM).\n"
   ]
  },
  {
   "cell_type": "code",
   "execution_count": 1,
   "id": "local-birthday",
   "metadata": {},
   "outputs": [],
   "source": [
    "import numpy as np\n",
    "import pandas as pd\n",
    "import matplotlib.pyplot as plt\n",
    "from sklearn.model_selection import train_test_split\n",
    "from sklearn.metrics import confusion_matrix\n",
    "from sklearn.svm import SVC \n",
    "from sklearn.model_selection import KFold\n",
    "plt.style.use('dark_background')"
   ]
  },
  {
   "cell_type": "markdown",
   "id": "9acefb09",
   "metadata": {},
   "source": [
    "## <a class=\"anchor\" id=\"feature-analysis\">1 - Index of Contents</a>\n",
    "\n",
    "2 - [Feature Analysis](#feature-analysis)  \n",
    "> 2.1 - [Dropping the unhelpful \"SpType Column\"](#drop-SpColumn) \\\n",
    "> 2.2 - [Outliers](#outliers) \n",
    "\n",
    "3 - [Feature Normalization, Data Visualization and Creation of new features\n",
    "](#featureNormalization)\n",
    "> 3.1 - [Automatic Feature clipping](#autoClipping) \\\n",
    "> 3.2 - [Data Visualization](#dataVisualization) \\\n",
    "> 3.3 - [Feature Normalization: Rescaling with Min-Max Normalization](#minMaxNormalization) \\\n",
    "> 3.4 - [Feature Mapping](#featuremapping) \n",
    "\n",
    "4 - [3 way split: Creation of Train, Dev and Test Sets](#3waySplit)\n",
    "\n",
    "5 - [Logistic Regression](#logisticRegretion)\n",
    "> 5.1 - [Sigmoid function](#sigFunc) \\\n",
    "> 5.2 - [Cost Function and Gradient descend with Ridge Regression](#costFunc) \\ \n",
    "> 5.3 - [Gradient Descent](#gradDescent) \\\n",
    "> 5.4 - [Accuracy Model and F1-Score (with Learning Curve and Validation Curve)](#accModel) \n",
    "\n",
    "6 - [Neural Networks](#NN)\n",
    "> 6.1 - [NN Cost Function with Backpropagation](#nnCost) \\\n",
    "> 6.2 - [Sigmoid Gradient](#sigGrad) \\\n",
    ">6.3 - [Random Initialization of the Weights](#randInitialization) \\\n",
    "> 6.4 - [Gradient Descent with Adaptive Learning Rate and Momentum](#gradDesc) \\\n",
    "> 6.5 - [ Binary Classification Prediction Function](#binClassPredFunc) \\\n",
    "> 6.6 - [testing the Neural Network](#testNNN)\n",
    "\n",
    "\n",
    "7 - [SVM](#SVM)\n",
    "> 7.1 - [SVM Classifier](#SVM_Classifier) \\\n",
    "> 7.2 - [Best SVM Score](#SVM_Best) \\\n",
    "> 7.3 - [Second SVM Example](#SVM_Sec) \\\n",
    "> 7.4 - [KFold](#KFols)"
   ]
  },
  {
   "cell_type": "markdown",
   "id": "lesbian-celebrity",
   "metadata": {},
   "source": [
    "## <a class=\"anchor\" id=\"feature-analysis\">2 - Feature Analysis</a>\n",
    "\n",
    "In the dataset that is going to be used, there are 5 of the 6 types of features that will help us with the classification. They are:\n",
    "\n",
    "<ul>\n",
    "    <li><b>Vmag</b> - Visual Apparent Magnitude of the Star</li>\n",
    "    <li><b>Plx</b> - Distance Between the Star and the Earth</li>\n",
    "    <li><b>e_Plx</b> - Standard Error of Plx</li>\n",
    "    <li><b> B-V</b> - B-V color index </li>\n",
    "    <li><b> SpType</b> - Stellar classification. </li>\n",
    "    <li> <b>Amag </b>- Absolute Magnitude of the Star. </li>\n",
    "</ul>\n",
    "\n",
    "Note that B-V Color Index describes the color of the star and it rangesbetween zero or negative for an hot (blueish) star and 2.0 fora cold star, and the Absolute Magnitude  of  the  star is a feature that is created bu the following formula: $$M=m+ 5(log^p_{10}+ 1)$$, where $M$ means the absolute magnitude, $m$ means the visual apparent magnitude and $p$ means the stellar parallax,  also  known  as  the  distance  from  Earth,  in  a  more simplified way."
   ]
  },
  {
   "cell_type": "code",
   "execution_count": 2,
   "id": "compact-italian",
   "metadata": {},
   "outputs": [
    {
     "data": {
      "text/html": [
       "<div>\n",
       "<style scoped>\n",
       "    .dataframe tbody tr th:only-of-type {\n",
       "        vertical-align: middle;\n",
       "    }\n",
       "\n",
       "    .dataframe tbody tr th {\n",
       "        vertical-align: top;\n",
       "    }\n",
       "\n",
       "    .dataframe thead th {\n",
       "        text-align: right;\n",
       "    }\n",
       "</style>\n",
       "<table border=\"1\" class=\"dataframe\">\n",
       "  <thead>\n",
       "    <tr style=\"text-align: right;\">\n",
       "      <th></th>\n",
       "      <th>Vmag</th>\n",
       "      <th>Plx</th>\n",
       "      <th>e_Plx</th>\n",
       "      <th>B-V</th>\n",
       "      <th>SpType</th>\n",
       "      <th>Amag</th>\n",
       "      <th>TargetClass</th>\n",
       "    </tr>\n",
       "  </thead>\n",
       "  <tbody>\n",
       "    <tr>\n",
       "      <th>0</th>\n",
       "      <td>5.99</td>\n",
       "      <td>13.73</td>\n",
       "      <td>0.58</td>\n",
       "      <td>1.318</td>\n",
       "      <td>K5III</td>\n",
       "      <td>16.678352</td>\n",
       "      <td>0</td>\n",
       "    </tr>\n",
       "    <tr>\n",
       "      <th>1</th>\n",
       "      <td>8.70</td>\n",
       "      <td>2.31</td>\n",
       "      <td>1.29</td>\n",
       "      <td>-0.045</td>\n",
       "      <td>B1II</td>\n",
       "      <td>15.518060</td>\n",
       "      <td>0</td>\n",
       "    </tr>\n",
       "    <tr>\n",
       "      <th>2</th>\n",
       "      <td>5.77</td>\n",
       "      <td>5.50</td>\n",
       "      <td>1.03</td>\n",
       "      <td>0.855</td>\n",
       "      <td>G5III</td>\n",
       "      <td>14.471813</td>\n",
       "      <td>0</td>\n",
       "    </tr>\n",
       "    <tr>\n",
       "      <th>3</th>\n",
       "      <td>6.72</td>\n",
       "      <td>5.26</td>\n",
       "      <td>0.74</td>\n",
       "      <td>-0.015</td>\n",
       "      <td>B7V</td>\n",
       "      <td>15.324928</td>\n",
       "      <td>1</td>\n",
       "    </tr>\n",
       "    <tr>\n",
       "      <th>4</th>\n",
       "      <td>8.76</td>\n",
       "      <td>13.44</td>\n",
       "      <td>1.16</td>\n",
       "      <td>0.584</td>\n",
       "      <td>G0V</td>\n",
       "      <td>19.401997</td>\n",
       "      <td>1</td>\n",
       "    </tr>\n",
       "  </tbody>\n",
       "</table>\n",
       "</div>"
      ],
      "text/plain": [
       "   Vmag    Plx  e_Plx    B-V SpType       Amag  TargetClass\n",
       "0  5.99  13.73   0.58  1.318  K5III  16.678352            0\n",
       "1  8.70   2.31   1.29 -0.045   B1II  15.518060            0\n",
       "2  5.77   5.50   1.03  0.855  G5III  14.471813            0\n",
       "3  6.72   5.26   0.74 -0.015    B7V  15.324928            1\n",
       "4  8.76  13.44   1.16  0.584    G0V  19.401997            1"
      ]
     },
     "execution_count": 2,
     "metadata": {},
     "output_type": "execute_result"
    }
   ],
   "source": [
    "csv_string = \"dataset/Star3642_balanced.csv\"\n",
    "data = pd.read_csv(csv_string)\n",
    "\n",
    "data.head()"
   ]
  },
  {
   "cell_type": "markdown",
   "id": "7ee964a1",
   "metadata": {},
   "source": [
    "### <a class=\"anchor\" id=\"drop-SpColumn\"> 2.1 - Dropping the unhelpful \"SpType Column\" </a>"
   ]
  },
  {
   "cell_type": "markdown",
   "id": "7498b0de",
   "metadata": {},
   "source": [
    "The column that is not helpful is \"SpType\" because this column has the codename classification of the stars in the dataset. This is only helpful to generate the \"TargetClass Column\" if the user only have the raw dataset and needs to perform a data cleaning. In this project we are using a balanced dataset with the data already cleaned. The image below help us understand better how the identification is done, by using primaraly the roman numerals to identify between Dwarfs and Giants.\n",
    "\n",
    "\n",
    "<img src=\"pictures/HR_Diagram.png\" width=\"25%\">\n",
    "\n",
    "That being said, we are now going to drop that column and convert the our labels, present in the column \"TargetClass\" to float:"
   ]
  },
  {
   "cell_type": "code",
   "execution_count": 3,
   "id": "90e0f5e9",
   "metadata": {},
   "outputs": [
    {
     "data": {
      "text/html": [
       "<div>\n",
       "<style scoped>\n",
       "    .dataframe tbody tr th:only-of-type {\n",
       "        vertical-align: middle;\n",
       "    }\n",
       "\n",
       "    .dataframe tbody tr th {\n",
       "        vertical-align: top;\n",
       "    }\n",
       "\n",
       "    .dataframe thead th {\n",
       "        text-align: right;\n",
       "    }\n",
       "</style>\n",
       "<table border=\"1\" class=\"dataframe\">\n",
       "  <thead>\n",
       "    <tr style=\"text-align: right;\">\n",
       "      <th></th>\n",
       "      <th>Vmag</th>\n",
       "      <th>Plx</th>\n",
       "      <th>e_Plx</th>\n",
       "      <th>B-V</th>\n",
       "      <th>Amag</th>\n",
       "      <th>TargetClass</th>\n",
       "    </tr>\n",
       "  </thead>\n",
       "  <tbody>\n",
       "    <tr>\n",
       "      <th>count</th>\n",
       "      <td>3642.000000</td>\n",
       "      <td>3642.000000</td>\n",
       "      <td>3642.000000</td>\n",
       "      <td>3642.000000</td>\n",
       "      <td>3642.000000</td>\n",
       "      <td>3642.000000</td>\n",
       "    </tr>\n",
       "    <tr>\n",
       "      <th>mean</th>\n",
       "      <td>8.120530</td>\n",
       "      <td>7.606153</td>\n",
       "      <td>1.176568</td>\n",
       "      <td>0.827077</td>\n",
       "      <td>16.427388</td>\n",
       "      <td>0.500000</td>\n",
       "    </tr>\n",
       "    <tr>\n",
       "      <th>std</th>\n",
       "      <td>1.338875</td>\n",
       "      <td>11.924052</td>\n",
       "      <td>0.919999</td>\n",
       "      <td>0.436699</td>\n",
       "      <td>2.428144</td>\n",
       "      <td>0.500069</td>\n",
       "    </tr>\n",
       "    <tr>\n",
       "      <th>min</th>\n",
       "      <td>0.450000</td>\n",
       "      <td>-6.820000</td>\n",
       "      <td>0.470000</td>\n",
       "      <td>-0.196000</td>\n",
       "      <td>2.820000</td>\n",
       "      <td>0.000000</td>\n",
       "    </tr>\n",
       "    <tr>\n",
       "      <th>25%</th>\n",
       "      <td>7.370000</td>\n",
       "      <td>2.740000</td>\n",
       "      <td>0.840000</td>\n",
       "      <td>0.487250</td>\n",
       "      <td>15.150312</td>\n",
       "      <td>0.000000</td>\n",
       "    </tr>\n",
       "    <tr>\n",
       "      <th>50%</th>\n",
       "      <td>8.390000</td>\n",
       "      <td>4.950000</td>\n",
       "      <td>1.040000</td>\n",
       "      <td>0.867000</td>\n",
       "      <td>16.392485</td>\n",
       "      <td>0.500000</td>\n",
       "    </tr>\n",
       "    <tr>\n",
       "      <th>75%</th>\n",
       "      <td>9.060000</td>\n",
       "      <td>8.670000</td>\n",
       "      <td>1.270000</td>\n",
       "      <td>1.136000</td>\n",
       "      <td>18.029836</td>\n",
       "      <td>1.000000</td>\n",
       "    </tr>\n",
       "    <tr>\n",
       "      <th>max</th>\n",
       "      <td>12.490000</td>\n",
       "      <td>280.270000</td>\n",
       "      <td>30.290000</td>\n",
       "      <td>2.530000</td>\n",
       "      <td>29.249165</td>\n",
       "      <td>1.000000</td>\n",
       "    </tr>\n",
       "  </tbody>\n",
       "</table>\n",
       "</div>"
      ],
      "text/plain": [
       "              Vmag          Plx        e_Plx          B-V         Amag  \\\n",
       "count  3642.000000  3642.000000  3642.000000  3642.000000  3642.000000   \n",
       "mean      8.120530     7.606153     1.176568     0.827077    16.427388   \n",
       "std       1.338875    11.924052     0.919999     0.436699     2.428144   \n",
       "min       0.450000    -6.820000     0.470000    -0.196000     2.820000   \n",
       "25%       7.370000     2.740000     0.840000     0.487250    15.150312   \n",
       "50%       8.390000     4.950000     1.040000     0.867000    16.392485   \n",
       "75%       9.060000     8.670000     1.270000     1.136000    18.029836   \n",
       "max      12.490000   280.270000    30.290000     2.530000    29.249165   \n",
       "\n",
       "       TargetClass  \n",
       "count  3642.000000  \n",
       "mean      0.500000  \n",
       "std       0.500069  \n",
       "min       0.000000  \n",
       "25%       0.000000  \n",
       "50%       0.500000  \n",
       "75%       1.000000  \n",
       "max       1.000000  "
      ]
     },
     "execution_count": 3,
     "metadata": {},
     "output_type": "execute_result"
    }
   ],
   "source": [
    "data.drop('SpType', inplace=True, axis=1)\n",
    "data['TargetClass'] = data['TargetClass'].astype('int64')\n",
    "\n",
    "data.describe() "
   ]
  },
  {
   "cell_type": "markdown",
   "id": "8b24e002",
   "metadata": {},
   "source": [
    "### <a class=\"anchor\" id=\"outliers\">2.2 - Outliers </a>\n",
    "\n",
    "An outlier is an observation that that differs significantly from other observations, although they sometimes need to be excluded of the dataset to proper data analysis, in this case they are generally necessary to contribute to a good perform of the binary classification. The only outliers the need to be excluded are the ones on the \"e_Plx\" column as they mean an error on the measures of the \"Plx\" column. The outliers can be vizualized in the graphic below"
   ]
  },
  {
   "cell_type": "code",
   "execution_count": 4,
   "id": "d2fb68ed",
   "metadata": {
    "scrolled": true
   },
   "outputs": [
    {
     "data": {
      "text/plain": [
       "Text(0, 0.5, 'Column values')"
      ]
     },
     "execution_count": 4,
     "metadata": {},
     "output_type": "execute_result"
    },
    {
     "data": {
      "image/png": "[encoded data removed]",
      "text/plain": [
       "<Figure size 432x288 with 1 Axes>"
      ]
     },
     "metadata": {},
     "output_type": "display_data"
    }
   ],
   "source": [
    "data.boxplot()\n",
    "plt.title(\"Visualization of the outliers\")\n",
    "plt.ylabel(\"Column values\")"
   ]
  },
  {
   "cell_type": "markdown",
   "id": "timely-peninsula",
   "metadata": {},
   "source": [
    "## <a class=\"anchor\" id=\"featureNormalization\"> 3 - Feature Normalization, Data Visualization and Creation of new features   </a>\n",
    "\n",
    "### <a class=\"anchor\" id=\"autoClipping\"> 3.1 Automatic Feature clipping </a>\n",
    "\n",
    "We have seen that the outliers in the column \"e_Plx\" contribute to a lower performance since they are an experimental error. Limiting data to $N\\sigma$ with $N = 1.4$ will help us have stability when training the data."
   ]
  },
  {
   "cell_type": "code",
   "execution_count": 5,
   "id": "vocational-penetration",
   "metadata": {},
   "outputs": [],
   "source": [
    "threshold = data.iloc[:, 2].std()*1.4\n",
    "data = data[(data.iloc[:, 2]<threshold)] \n",
    "\n",
    "data_v = data.values \n",
    "\n",
    "x = data_v[:, :-1]\n",
    "y = data_v[:, -1].reshape(len(x), 1)"
   ]
  },
  {
   "cell_type": "code",
   "execution_count": 6,
   "id": "removed-mailman",
   "metadata": {},
   "outputs": [
    {
     "data": {
      "text/html": [
       "<div>\n",
       "<style scoped>\n",
       "    .dataframe tbody tr th:only-of-type {\n",
       "        vertical-align: middle;\n",
       "    }\n",
       "\n",
       "    .dataframe tbody tr th {\n",
       "        vertical-align: top;\n",
       "    }\n",
       "\n",
       "    .dataframe thead th {\n",
       "        text-align: right;\n",
       "    }\n",
       "</style>\n",
       "<table border=\"1\" class=\"dataframe\">\n",
       "  <thead>\n",
       "    <tr style=\"text-align: right;\">\n",
       "      <th></th>\n",
       "      <th>Vmag</th>\n",
       "      <th>Plx</th>\n",
       "      <th>e_Plx</th>\n",
       "      <th>B-V</th>\n",
       "      <th>Amag</th>\n",
       "      <th>TargetClass</th>\n",
       "    </tr>\n",
       "  </thead>\n",
       "  <tbody>\n",
       "    <tr>\n",
       "      <th>count</th>\n",
       "      <td>2767.000000</td>\n",
       "      <td>2767.000000</td>\n",
       "      <td>2767.000000</td>\n",
       "      <td>2767.000000</td>\n",
       "      <td>2767.000000</td>\n",
       "      <td>2767.000000</td>\n",
       "    </tr>\n",
       "    <tr>\n",
       "      <th>mean</th>\n",
       "      <td>7.758164</td>\n",
       "      <td>7.580499</td>\n",
       "      <td>0.942259</td>\n",
       "      <td>0.857480</td>\n",
       "      <td>16.086859</td>\n",
       "      <td>0.425370</td>\n",
       "    </tr>\n",
       "    <tr>\n",
       "      <th>std</th>\n",
       "      <td>1.252093</td>\n",
       "      <td>11.465107</td>\n",
       "      <td>0.189165</td>\n",
       "      <td>0.455365</td>\n",
       "      <td>2.258541</td>\n",
       "      <td>0.494488</td>\n",
       "    </tr>\n",
       "    <tr>\n",
       "      <th>min</th>\n",
       "      <td>0.450000</td>\n",
       "      <td>-2.760000</td>\n",
       "      <td>0.470000</td>\n",
       "      <td>-0.196000</td>\n",
       "      <td>2.820000</td>\n",
       "      <td>0.000000</td>\n",
       "    </tr>\n",
       "    <tr>\n",
       "      <th>25%</th>\n",
       "      <td>7.030000</td>\n",
       "      <td>2.770000</td>\n",
       "      <td>0.800000</td>\n",
       "      <td>0.490500</td>\n",
       "      <td>14.957027</td>\n",
       "      <td>0.000000</td>\n",
       "    </tr>\n",
       "    <tr>\n",
       "      <th>50%</th>\n",
       "      <td>8.020000</td>\n",
       "      <td>4.940000</td>\n",
       "      <td>0.940000</td>\n",
       "      <td>0.944000</td>\n",
       "      <td>16.059792</td>\n",
       "      <td>0.000000</td>\n",
       "    </tr>\n",
       "    <tr>\n",
       "      <th>75%</th>\n",
       "      <td>8.700000</td>\n",
       "      <td>8.645000</td>\n",
       "      <td>1.100000</td>\n",
       "      <td>1.168000</td>\n",
       "      <td>17.564272</td>\n",
       "      <td>1.000000</td>\n",
       "    </tr>\n",
       "    <tr>\n",
       "      <th>max</th>\n",
       "      <td>10.270000</td>\n",
       "      <td>280.270000</td>\n",
       "      <td>1.280000</td>\n",
       "      <td>2.530000</td>\n",
       "      <td>25.362305</td>\n",
       "      <td>1.000000</td>\n",
       "    </tr>\n",
       "  </tbody>\n",
       "</table>\n",
       "</div>"
      ],
      "text/plain": [
       "              Vmag          Plx        e_Plx          B-V         Amag  \\\n",
       "count  2767.000000  2767.000000  2767.000000  2767.000000  2767.000000   \n",
       "mean      7.758164     7.580499     0.942259     0.857480    16.086859   \n",
       "std       1.252093    11.465107     0.189165     0.455365     2.258541   \n",
       "min       0.450000    -2.760000     0.470000    -0.196000     2.820000   \n",
       "25%       7.030000     2.770000     0.800000     0.490500    14.957027   \n",
       "50%       8.020000     4.940000     0.940000     0.944000    16.059792   \n",
       "75%       8.700000     8.645000     1.100000     1.168000    17.564272   \n",
       "max      10.270000   280.270000     1.280000     2.530000    25.362305   \n",
       "\n",
       "       TargetClass  \n",
       "count  2767.000000  \n",
       "mean      0.425370  \n",
       "std       0.494488  \n",
       "min       0.000000  \n",
       "25%       0.000000  \n",
       "50%       0.000000  \n",
       "75%       1.000000  \n",
       "max       1.000000  "
      ]
     },
     "execution_count": 6,
     "metadata": {},
     "output_type": "execute_result"
    }
   ],
   "source": [
    "# Data statistics\n",
    "data.describe()"
   ]
  },
  {
   "cell_type": "markdown",
   "id": "9c39f087",
   "metadata": {},
   "source": [
    "### <a class=\"anchor\" id=\"dataVisualization\"> 3.2 - Data Visualization  </a>\n",
    "\n",
    "In this section we chose to visualize some key aspects of the stars, namely the relation between the Apparent and Absolute magnitudes of a star with its Color Index. We chose this data to be plotting because they have a great distinguish alongside the $x$ and $y$ axis between who is a Dwarf or a Giant. "
   ]
  },
  {
   "cell_type": "code",
   "execution_count": 7,
   "id": "preliminary-breakfast",
   "metadata": {},
   "outputs": [
    {
     "data": {
      "text/plain": [
       "<matplotlib.legend.Legend at 0x7fcd071ad910>"
      ]
     },
     "execution_count": 7,
     "metadata": {},
     "output_type": "execute_result"
    },
    {
     "data": {
      "image/png": "[encoded data removed]",
      "text/plain": [
       "<Figure size 432x288 with 1 Axes>"
      ]
     },
     "metadata": {},
     "output_type": "display_data"
    }
   ],
   "source": [
    "Giants=(y==1) \n",
    "Dwarfs=(y==0)\n",
    "\n",
    "plt.scatter(x[Dwarfs[:, 0],1],x[Dwarfs[:, 0],3],c=\"r\",marker=\"+\", s=20)\n",
    "plt.scatter(x[Giants[:, 0],1],x[Giants[:, 0],3],c=\"b\",marker=\"o\", s=20)  \n",
    "plt.title(\"Correlation between Visual Aparent magnitude of the star and its Color Index\")\n",
    "plt.xlabel(\"Visual Aparent Magnitude\")\n",
    "plt.ylabel(\"Color Index\") \n",
    "plt.legend([\"Dwarfs\", \"Giants\"])"
   ]
  },
  {
   "cell_type": "code",
   "execution_count": 8,
   "id": "610ec748",
   "metadata": {},
   "outputs": [
    {
     "data": {
      "text/plain": [
       "<matplotlib.legend.Legend at 0x7fcd06f2f460>"
      ]
     },
     "execution_count": 8,
     "metadata": {},
     "output_type": "execute_result"
    },
    {
     "data": {
      "image/png": "[encoded data removed]",
      "text/plain": [
       "<Figure size 432x288 with 1 Axes>"
      ]
     },
     "metadata": {},
     "output_type": "display_data"
    }
   ],
   "source": [
    "plt.scatter(x[Dwarfs[:, 0],3],x[Dwarfs[:, 0],4],c=\"r\",marker=\"+\", s=20)\n",
    "plt.scatter(x[Giants[:, 0],3],x[Giants[:, 0],4],c=\"b\",marker=\"o\", s=20)  \n",
    "plt.title(\"Correlation between Color Index and Absolute magnitude of the stars\")\n",
    "plt.xlabel(\"B-V - Color Index\")\n",
    "plt.ylabel(\"Amag - Absulute Magnitude\")\n",
    "plt.legend([\"Dwarfs\", \"Giants\"])"
   ]
  },
  {
   "cell_type": "markdown",
   "id": "36d46072",
   "metadata": {},
   "source": [
    "### <a class=\"anchor\" id=\"minMaxNormalization\"> 3.3 Feature Normalization: Rescaling with Min-Max Normalization </a>\n",
    "We chose to normalize our feature set due to the wide range of values that the dataset has. Without one normalization method, the training data would rather diverge instead of converging. Also, narrowing the data to an interval between 0 and 1 would make the training data converge even faster than other methods such as standardization by Z-score, that still also make our training data to diverge.\n",
    "\n",
    "The formula of the Min-Max Normalization is given by:\n",
    "$$x' = \\frac{x-min(x)}{max(x)-min(x)}$$"
   ]
  },
  {
   "cell_type": "code",
   "execution_count": 9,
   "id": "e2b1bb7c",
   "metadata": {},
   "outputs": [],
   "source": [
    "def minMaxNormalization(X):\n",
    "    return (X-X.min(axis=0))/(X.max(axis=0)-X.min(axis=0))"
   ]
  },
  {
   "cell_type": "markdown",
   "id": "ca744ea6",
   "metadata": {},
   "source": [
    "### <a class=\"anchor\" id=\"featuremapping\"> 3.4 - Feature Mapping </a>\n",
    "Feature mapping will help us fit the data better in our classification algorithms, helping having better accuracy scores. This quadratic function will make some combinations of two features of the dataset, in order to give a better outcome than considering just a linear function."
   ]
  },
  {
   "cell_type": "code",
   "execution_count": 10,
   "id": "4942bae4",
   "metadata": {},
   "outputs": [],
   "source": [
    "def mapFeature(x1,x2,degree):\n",
    "    \"\"\"\n",
    "    take in numpy array of x1 and x2, return polynomial terms up to the given degree\n",
    "    \"\"\"\n",
    "    out = np.ones((len(x1),1))\n",
    "    for i in range(1,degree+1):\n",
    "        for j in range(i+1):\n",
    "            terms= (x1**(i-j) * x2**j).reshape(len(x1),1)\n",
    "            out= np.hstack((out,terms))\n",
    "    return out[:, 3:] "
   ]
  },
  {
   "cell_type": "code",
   "execution_count": 11,
   "id": "9c2ca53d",
   "metadata": {
    "scrolled": true
   },
   "outputs": [],
   "source": [
    "degree=5\n",
    "\n",
    "xmap1 = mapFeature(x[:, 0],x[:, 1] ,degree)\n",
    "xmap2 = mapFeature(x[:, 1],x[:, 2] ,degree)\n",
    "xmap3 = mapFeature(x[:, 2],x[:, 3] ,degree)\n",
    "xmap4 = mapFeature(x[:, 3],x[:, 4] ,degree)\n",
    "\n",
    "x = np.hstack((x, np.hstack((xmap1, xmap2, xmap3, xmap4))))\n",
    "\n",
    "x_data  = minMaxNormalization(x)\n",
    "y_data  = y"
   ]
  },
  {
   "cell_type": "markdown",
   "id": "4c8655cb",
   "metadata": {},
   "source": [
    "## <a class=\"anchor\" id=\"3waySplit\"> 4 - 3 way split: Creation of Train, Dev and Test Sets </a>\n",
    "An important concept in machine learning is the bias-variance tradeoff. Models with high bias are not complex enough for the data and tend to under-fit, while models with high variance over-fit the training data. To help us identify if our models are underfitting or overfitting with the training data, we have splitted our dataset in 3 sets: the training set, used to train our models, the validation set and the testing set to compute and compare the model accuracy."
   ]
  },
  {
   "cell_type": "code",
   "execution_count": 12,
   "id": "8ca1640c",
   "metadata": {},
   "outputs": [],
   "source": [
    "x_train, x_cv, y_train , y_cv = train_test_split(x_data,y_data, test_size = 0.20)\n",
    "x_train, x_test, y_train , y_test = train_test_split(x_train,y_train, test_size = 0.20)"
   ]
  },
  {
   "cell_type": "markdown",
   "id": "expected-familiar",
   "metadata": {},
   "source": [
    "## <a class=\"anchor\" id=\"logisticRegretion\"> 5 - Logistic Regression </a>\n",
    "\n",
    "This is a classification problem, so it means that we must chose the right algorithms/models to deal with such problem. One classic model to do this task is the Logistic Regression. Logistic Regression deals very well with a training dataset with 77 features made with the function $mapFeature()$\n",
    "\n",
    "### <a class=\"anchor\" id=\"sigFunc\"> 5.1 - Sigmoid function </a>\n"
   ]
  },
  {
   "cell_type": "code",
   "execution_count": 13,
   "id": "intellectual-disability",
   "metadata": {},
   "outputs": [],
   "source": [
    "def sigmoid(z):\n",
    "    return 1/(1+np.exp(-z))"
   ]
  },
  {
   "cell_type": "markdown",
   "id": "straight-racing",
   "metadata": {},
   "source": [
    "### <a class=\"anchor\" id=\"costFunc\"> 5.2 - Cost Function and Gradient descend with Ridge Regression </a>\n",
    "\n",
    "We chose to implement the cost function and the Gradient Descend with regularization in case our model over-fit the training data.\n",
    "The Regularization method chosen was Ridge Regression ($\\frac{\\lambda}{2m}\\sum_{j=1}^{n}\\theta^2_j$). It will keep the features created to fit the data better.\n"
   ]
  },
  {
   "cell_type": "code",
   "execution_count": 14,
   "id": "documentary-hearts",
   "metadata": {},
   "outputs": [],
   "source": [
    " def costFunctionReg(X, y, theta, Lambda):\n",
    "    \"\"\"\n",
    "    Take in numpy array of  data X, labels y and theta, to return the regularized cost function and gradients\n",
    "    of the logistic regression classifier\n",
    "    \"\"\"\n",
    "    \n",
    "    #number of training examples \n",
    "    m= len(X)\n",
    "        \n",
    "    #vector of the model predictions for all training examples      \n",
    "    h = sigmoid(np.dot(X, theta))\n",
    "    \n",
    "    error = (-y * np.log(h)) - ((1-y)*np.log(1-h)) \n",
    "    \n",
    "    #cost function without regularization term\n",
    "    cost = sum(error)/m\n",
    "    \n",
    "    #add regularization term to the cost function\n",
    "    regCost= cost + Lambda/(2*m) * sum(theta[1:]**2) \n",
    "    \n",
    "    #gradient of theta_0\n",
    "    grad_0= (1/m) * np.dot(X.transpose(),(h - y))[0]\n",
    "    \n",
    "    #vector of gradients of theta_j from j=1:n (adding the regularization term of the gradient)\n",
    "    grad = (1/m) * np.dot(X.transpose(),(h - y))[1:] + (Lambda/m)* theta[1:]\n",
    "       \n",
    "    # all gradients in a column vector shape\n",
    "    grad_all=np.append(grad_0,grad)\n",
    "    grad_all = grad_all.reshape((len(grad_all), 1))\n",
    "    \n",
    "    return regCost[0], grad_all"
   ]
  },
  {
   "cell_type": "markdown",
   "id": "fdf26803",
   "metadata": {},
   "source": [
    "### <a class=\"anchor\" id=\"gradDescent\"> 5.3 - Gradient Descent </a>\n",
    "Used to find a local minimum by iteratively moving in the direction of steepest descent as defined by the negative of the gradient. It also performs the parameter updating ($\\theta_j := \\theta_j - \\alpha\\frac{\\partial}{\\partial\\theta_j}J(\\theta)$)."
   ]
  },
  {
   "cell_type": "code",
   "execution_count": 15,
   "id": "multiple-technical",
   "metadata": {},
   "outputs": [],
   "source": [
    "def gradientDescentReg(X,y,theta,alpha,num_iters,Lambda):\n",
    "    \"\"\"\n",
    "    Take in numpy array X, y and theta and update theta by taking num_iters gradient steps\n",
    "    with learning rate of alpha\n",
    "    \n",
    "    return theta and the list of the cost of theta during each iteration\n",
    "    \"\"\"\n",
    "    \n",
    "    J_history =[]\n",
    "    \n",
    "    for i in range(num_iters):\n",
    "        \n",
    "        #call CostFunctionReg \n",
    "        cost, grad = costFunctionReg(X,y,theta,  Lambda)\n",
    "        \n",
    "        #update theta\n",
    "        theta = theta - (alpha)*grad\n",
    "        \n",
    "        J_history.append(cost)\n",
    "    \n",
    "    return theta , J_history "
   ]
  },
  {
   "cell_type": "markdown",
   "id": "740da7cb",
   "metadata": {},
   "source": [
    "### <a class=\"anchor\" id=\"accModel\">  5.4 - Accuracy and F1-Score of the model </a>"
   ]
  },
  {
   "cell_type": "code",
   "execution_count": 16,
   "id": "623e5e35",
   "metadata": {},
   "outputs": [],
   "source": [
    "def classifierPredict(theta,X):\n",
    "    return X.dot(theta) > 0"
   ]
  },
  {
   "cell_type": "markdown",
   "id": "39d29330",
   "metadata": {},
   "source": [
    "\n",
    "For the logistic regression we opted to analyse the accuracy of the model with careful methodologies to diagnose the bias or the variance of the model, like the Learning curve and the Validation Curve. They compute internally a confusion matrix to get the True Positive and Negatives, and the False Positive and Negatives. With those values we compute the accuracy of the classification problem with the following formula: $$ Accuracy = \\frac{TP+TN}{TP+TN+FP+FN}$$\n",
    "\n",
    "We also perform the F1-Score to be compared with the Accuracy Score... F1-Score is the harmonic mean of Precision and Recall (both also calculated in the following code) and is given by the formula $F1Score = 2*\\frac{Precision*Recall}{Precision+Recall}$, and it give us a better measure by penalizing the extreme output values. \n",
    "\n",
    "#### Learning Curve\n",
    "\n",
    "\n",
    "A learning curve plots the score over various numbers of training samples, which will help us see if the current size of the batch is benefiting from more data or if it is biased."
   ]
  },
  {
   "cell_type": "code",
   "execution_count": 17,
   "id": "96e36f2c",
   "metadata": {},
   "outputs": [],
   "source": [
    "def learningCurve(X, y, Xval, yval, learn_rate, num_iter, Lambda):\n",
    "    \"\"\"\n",
    "    Returns the train and cross validation set errors for a learning curve\n",
    "    \"\"\"\n",
    "    m, n = X.shape\n",
    "    mval=len(yval)\n",
    "    acc_train, acc_val = [],[]\n",
    "    \n",
    "    for i in range(10,m+1,100):\n",
    "        \n",
    "        initial_theta=np.zeros((n,1))\n",
    "        \n",
    "        Xtrain=X[0:i,:]\n",
    "        ytrain=y[0:i,:]\n",
    "        \n",
    "        theta = gradientDescentReg(Xtrain, ytrain,initial_theta,learn_rate,num_iter,Lambda)[0]\n",
    "        \n",
    "        h_train = classifierPredict(theta, Xtrain) \n",
    "        h_val = classifierPredict(theta, Xval)\n",
    "        \n",
    "        confusion_train = confusion_matrix(ytrain, h_train)\n",
    "        TP_train, TN_train, FP_train, FN_train = confusion_train[1, 1], confusion_train[0, 0], confusion_train[0, 1], confusion_train[1, 0]\n",
    "        accuracy_train = (TP_train+TN_train)/float(TP_train+TN_train+FP_train+FN_train)\n",
    "        \n",
    "        confusion_val = confusion_matrix(yval, h_val)\n",
    "        TP_val, TN_val, FP_val, FN_val = confusion_val[1, 1], confusion_val[0, 0], confusion_val[0, 1], confusion_val[1, 0]\n",
    "        accuracy_val = (TP_val+TN_val)/float(TP_val+TN_val+FP_val+FN_val)\n",
    "        \n",
    "        acc_train.append(accuracy_train)\n",
    "        acc_val.append(accuracy_val) \n",
    "\n",
    "    return np.array(acc_train), np.array(acc_val)"
   ]
  },
  {
   "cell_type": "code",
   "execution_count": 18,
   "id": "sustainable-batch",
   "metadata": {},
   "outputs": [
    {
     "data": {
      "text/plain": [
       "(0.0, 100.0)"
      ]
     },
     "execution_count": 18,
     "metadata": {},
     "output_type": "execute_result"
    },
    {
     "data": {
      "image/png": "[encoded data removed]",
      "text/plain": [
       "<Figure size 432x288 with 1 Axes>"
      ]
     },
     "metadata": {},
     "output_type": "display_data"
    }
   ],
   "source": [
    "x_train_lr = np.append(np.ones((len(x_train), 1)), x_train, axis=1)\n",
    "x_cv_lr = np.append(np.ones((len(x_cv), 1)), x_cv, axis=1)\n",
    "x_test_lr = np.append(np.ones((len(x_test), 1)), x_test, axis=1)\n",
    "\n",
    "y_train_lr = y_train\n",
    "y_cv_lr = y_cv\n",
    "y_test_lr = y_test  \n",
    "\n",
    "Lambda = 1\n",
    "initial_theta = np.zeros((x_train_lr.shape[1],1))\n",
    "accuracy_train, accuracy_val = learningCurve(x_train_lr, y_train_lr, x_cv_lr, y_cv_lr, 1.5, 400, Lambda) #1000\n",
    "\n",
    "plt.plot(range(10,x_train_lr.shape[0]+1, 100),accuracy_train*100)\n",
    "plt.plot(range(10,x_train_lr.shape[0]+1, 100), accuracy_val*100,color=\"r\")\n",
    "plt.title(\"Learning Curve for Logistic Regression\")\n",
    "plt.xlabel(\"Number of training examples\")\n",
    "plt.ylabel(\"Accuracy (%)\")\n",
    "plt.legend([\"Train\", \"Cross Validation\"])\n",
    "plt.ylim(0,100)\n"
   ]
  },
  {
   "cell_type": "markdown",
   "id": "little-compression",
   "metadata": {},
   "source": [
    "   #### Validation Curve\n",
    "   The validation curve plots the score over a varying hyper parameter, in this case over the Lambda. This will help us choose the best value for the regularization parameter $\\lambda$ or even if we need a regularizator at all, as well as see the accuracy score of the model and its bias or variance."
   ]
  },
  {
   "cell_type": "code",
   "execution_count": 19,
   "id": "168ef761",
   "metadata": {},
   "outputs": [],
   "source": [
    "def validationCurve(X, y, Xval, yval, learn_rate, num_iter, Lambda_array):\n",
    "    \"\"\"\n",
    "    Returns the train and cross validation set errors for a learning curve\n",
    "    \"\"\"\n",
    "    m, n = X.shape\n",
    "    mval=len(yval)\n",
    "    acc_train, acc_val = [],[]\n",
    "    \n",
    "    for lam in Lambda_array:\n",
    "        \n",
    "        initial_theta=np.zeros((n,1))\n",
    "        \n",
    "        theta = gradientDescentReg(X, y,initial_theta,learn_rate,num_iter,lam)[0]\n",
    "        \n",
    "        h_train = classifierPredict(theta, X) \n",
    "        h_val = classifierPredict(theta, Xval) \n",
    "        \n",
    "        confusion_train = confusion_matrix(y, h_train) \n",
    "        TP_train, TN_train, FP_train, FN_train = confusion_train[1, 1], confusion_train[0, 0], confusion_train[0, 1], confusion_train[1, 0]\n",
    "        accuracy_train = (TP_train+TN_train)/float(TP_train+TN_train+FP_train+FN_train)\n",
    "        \n",
    "        confusion_val = confusion_matrix(yval, h_val)\n",
    "        TP_val, TN_val, FP_val, FN_val = confusion_val[1, 1], confusion_val[0, 0], confusion_val[0, 1], confusion_val[1, 0]\n",
    "        accuracy_val = (TP_val+TN_val)/float(TP_val+TN_val+FP_val+FN_val)\n",
    "        \n",
    "        acc_train.append(accuracy_train)\n",
    "        acc_val.append(accuracy_val)\n",
    "\n",
    "    return np.array(acc_train), np.array(acc_val), Lambda_array[np.argmax(acc_val)]"
   ]
  },
  {
   "cell_type": "code",
   "execution_count": 20,
   "id": "severe-clock",
   "metadata": {
    "scrolled": false
   },
   "outputs": [
    {
     "name": "stdout",
     "output_type": "stream",
     "text": [
      "Best Lambda:  0\n",
      "Accuracy of Train Data:  90.0 %\n",
      "Accuracy of Cross Validation:  87.906 %\n",
      "Accuracy of Test Data:  90.971 %\n",
      "\n",
      "F1-Score of Train Data: 88.332 %\n",
      "F1-Score of Cross Validation Data: 86.354 %\n",
      "F1-Score of Test Data: 88.764 %\n"
     ]
    },
    {
     "data": {
      "image/png": "[encoded data removed]",
      "text/plain": [
       "<Figure size 432x288 with 1 Axes>"
      ]
     },
     "metadata": {},
     "output_type": "display_data"
    }
   ],
   "source": [
    "Lambda = [0, 0.001, 0.1, 0.5, 1, 2, 3, 4]\n",
    "learning_rate = 1.5\n",
    "num_iter = 400 \n",
    "\n",
    "accuracy_train, accuracy_val, best_lam = validationCurve(x_train_lr, y_train_lr, x_cv_lr, y_cv_lr, learning_rate, num_iter, Lambda) #1000\n",
    "print(\"Best Lambda: \", best_lam)\n",
    "\n",
    "plt.plot(Lambda ,accuracy_train*100)\n",
    "plt.plot(Lambda, accuracy_val*100,color=\"r\")\n",
    "plt.title(\"Validation Curve for Logistic Regression\")\n",
    "plt.xlabel(\"Number of the Lambda\")\n",
    "plt.ylabel(\"Accuracy\")\n",
    "plt.legend([\"Train\", \"Cross Validation\"])\n",
    "plt.ylim(86,100) \n",
    "\n",
    "theta_initial = np.zeros((x_train_lr.shape[1],1))\n",
    "theta = gradientDescentReg(x_train_lr, y_train_lr, theta_initial, learning_rate, num_iter, best_lam)[0]\n",
    "\n",
    "pred_train = classifierPredict(theta, x_train_lr)  \n",
    "confusion_train = confusion_matrix(y_train_lr, pred_train)\n",
    "TP_train, TN_train, FP_train, FN_train = confusion_train[1, 1], confusion_train[0, 0], confusion_train[0, 1], confusion_train[1, 0]\n",
    "accuracy_train = (TP_train+TN_train)/float(TP_train+TN_train+FP_train+FN_train)\n",
    "precision_train = (TP_train)/(TP_train + FP_train)\n",
    "recall_train = (TP_train)/(TP_train + FN_train)\n",
    "F1_score_train = 2*((precision_train*recall_train)/(precision_train+recall_train))\n",
    "\n",
    "pred_cv = classifierPredict(theta, x_cv_lr) \n",
    "confusion_cv = confusion_matrix(y_cv_lr, pred_cv)\n",
    "TP_cv, TN_cv, FP_cv, FN_cv = confusion_cv[1, 1], confusion_cv[0, 0], confusion_cv[0, 1], confusion_cv[1, 0]\n",
    "accuracy_cv = (TP_cv+TN_cv)/float(TP_cv+TN_cv+FP_cv+FN_cv) \n",
    "precision_cv = (TP_cv)/(TP_cv + FP_cv)\n",
    "recall_cv = (TP_cv)/(TP_cv + FN_cv)\n",
    "F1_score_crossv = 2*((precision_cv*recall_cv)/(precision_cv+recall_cv))\n",
    "\n",
    "pred_test = classifierPredict(theta, x_test_lr) \n",
    "confusion_test = confusion_matrix(y_test_lr, pred_test)\n",
    "TP_test, TN_test, FP_test, FN_test = confusion_test[1, 1], confusion_test[0, 0], confusion_test[0, 1], confusion_test[1, 0]\n",
    "accuracy_test = (TP_test+TN_test)/float(TP_test+TN_test+FP_test+FN_test)\n",
    "precision_test = (TP_test)/(TP_test + FP_test)\n",
    "recall_test = (TP_test)/(TP_test + FN_test)\n",
    "F1_score_test = 2*((precision_test*recall_test)/(precision_test+recall_test)) \n",
    "\n",
    "print(\"Accuracy of Train Data: \", round(accuracy_train*100, 3), \"%\")\n",
    "print(\"Accuracy of Cross Validation: \", round(accuracy_cv*100, 3), \"%\")\n",
    "print(\"Accuracy of Test Data: \", round(accuracy_test*100, 3), \"%\")\n",
    "\n",
    "print(\"\\nF1-Score of Train Data:\", round(F1_score_train*100, 3), \"%\")\n",
    "print(\"F1-Score of Cross Validation Data:\", round(F1_score_crossv*100, 3), \"%\")\n",
    "print(\"F1-Score of Test Data:\", round(F1_score_test*100, 3), \"%\")"
   ]
  },
  {
   "cell_type": "code",
   "execution_count": 21,
   "id": "a852413a-fb52-41ea-93fa-e72df844307e",
   "metadata": {},
   "outputs": [
    {
     "data": {
      "image/png": "[encoded data removed]",
      "text/plain": [
       "<Figure size 1080x288 with 6 Axes>"
      ]
     },
     "metadata": {},
     "output_type": "display_data"
    }
   ],
   "source": [
    "import seaborn as sns\n",
    "fig, (ax1, ax2, ax3) = plt.subplots(1, 3, figsize=(15, 4))\n",
    "labels = ['True Neg','False Pos','False Neg','True Pos']\n",
    "labels = np.array(labels).reshape(2,2)\n",
    "sns.heatmap(data=confusion_train, ax=ax1, annot=True)\n",
    "sns.heatmap(data=confusion_cv, ax=ax2, annot=True)\n",
    "sns.heatmap(data=confusion_test, ax=ax3, annot=True)\n",
    "ax1.set_title(\"Confusion Matrix for Train Set\")\n",
    "ax2.set_title(\"Confusion Matrix for Cross Validation set\")\n",
    "ax3.set_title(\"Confusion Matrix for Test Set\")\n",
    "ax1.set_ylabel('Actual')\n",
    "ax1.set_xlabel('Predicted')\n",
    "ax2.set_ylabel('Actual')\n",
    "ax2.set_xlabel('Predicted')\n",
    "ax3.set_ylabel('Actual')\n",
    "ax3.set_xlabel('Predicted')\n",
    "plt.show()"
   ]
  },
  {
   "cell_type": "markdown",
   "id": "homeless-eating",
   "metadata": {},
   "source": [
    "## <a class=\"anchor\" id=\"NN\"> 6 - Neural Networks </a>\n",
    "\n",
    "As we know, Logistic Regression is not very efficient for complex nonlinear models. Although the Logistic model is sufficient and efficient already for our problem, we would like to know how much gain we can get with a simple Neural Network with one hidden layer, and see if the trade-off between time and accuracy is worth it or not."
   ]
  },
  {
   "cell_type": "markdown",
   "id": "nonprofit-advertising",
   "metadata": {},
   "source": [
    "### <a class=\"anchor\" id=\"nnCost\">  6.1 - NN Cost Function with Backpropagation </a>\n",
    "NN cost function with backpropagation used in classes "
   ]
  },
  {
   "cell_type": "code",
   "execution_count": 22,
   "id": "leading-character",
   "metadata": {},
   "outputs": [],
   "source": [
    "def nnCostFunction(nn_params,input_layer_size, hidden_layer_size, num_labels,X, y,Lambda):\n",
    "    \"\"\"\n",
    "    nn_params contains the parameters unrolled into a vector\n",
    "    \n",
    "    compute the cost and gradient of the neural network\n",
    "    \"\"\"\n",
    "    # Reshape nn_params back into the parameters Theta1 and Theta2\n",
    "    Theta1 = nn_params[:((input_layer_size+1) * hidden_layer_size)].reshape(hidden_layer_size,input_layer_size+1)\n",
    "    Theta2 = nn_params[((input_layer_size +1)* hidden_layer_size ):].reshape(num_labels,hidden_layer_size+1)\n",
    "    \n",
    "    m = X.shape[0]\n",
    "    J=0\n",
    "    X = np.hstack((np.ones((m,1)),X)) \n",
    "    y1 = np.zeros((m,num_labels))\n",
    "    \n",
    "    a1 = sigmoid(X @ Theta1.T)\n",
    "    a1 = np.hstack((np.ones((m,1)), a1)) # hidden layer\n",
    "    a2 = sigmoid(a1 @ Theta2.T) # output layer\n",
    "    \n",
    "    for i in range(1,num_labels+1):\n",
    "        y1[:,i-1][:,np.newaxis] = np.where(y==i,1,0)\n",
    "    for j in range(num_labels):\n",
    "        J = J + sum(-y1[:,j] * np.log(a2[:,j]) - (1-y1[:,j])*np.log(1-a2[:,j]))\n",
    "    \n",
    "    cost = 1/m* J\n",
    "    reg_J = cost + Lambda/(2*m) * (np.sum(Theta1[:,1:]**2) + np.sum(Theta2[:,1:]**2))\n",
    "    \n",
    "    # Implement the backpropagation algorithm to compute the gradients\n",
    "    \n",
    "    grad1 = np.zeros((Theta1.shape))\n",
    "    grad2 = np.zeros((Theta2.shape))\n",
    "    \n",
    "    for i in range(m):\n",
    "        xi= X[i,:] # 1 X 401\n",
    "        a1i = a1[i,:] # 1 X 26\n",
    "        a2i =a2[i,:] # 1 X 10\n",
    "        d2 = a2i - y1[i,:]\n",
    "        d1 = Theta2.T @ d2.T * sigmoidGradient(np.hstack((1,xi @ Theta1.T)))\n",
    "        grad1= grad1 + d1[1:][:,np.newaxis] @ xi[:,np.newaxis].T\n",
    "        grad2 = grad2 + d2.T[:,np.newaxis] @ a1i[:,np.newaxis].T\n",
    "        \n",
    "    grad1 = 1/m * grad1\n",
    "    grad2 = 1/m*grad2\n",
    "    \n",
    "    grad1_reg = grad1 + (Lambda/m) * np.hstack((np.zeros((Theta1.shape[0],1)),Theta1[:,1:]))\n",
    "    grad2_reg = grad2 + (Lambda/m) * np.hstack((np.zeros((Theta2.shape[0],1)),Theta2[:,1:]))\n",
    "    \n",
    "    return cost, grad1, grad2, reg_J, grad1_reg, grad2_reg"
   ]
  },
  {
   "cell_type": "markdown",
   "id": "4cf4ae34",
   "metadata": {},
   "source": [
    "### <a class=\"anchor\" id=\"sigGrad\">  6.2 - Sigmoid Gradient </a>\n",
    "\n",
    "Used for the backpropagation algorithm to compute the error backpropagation in the hidden layer.\n",
    "    Formula: $g'(z) = \\frac{d}{dz}g(z) = g(z)(1-g(z))$"
   ]
  },
  {
   "cell_type": "code",
   "execution_count": 23,
   "id": "adopted-scroll",
   "metadata": {},
   "outputs": [],
   "source": [
    "#Computes the gradient of sigmoid function\n",
    "def sigmoidGradient(z):\n",
    "    \"\"\"\n",
    "    computes the gradient of the sigmoid function\n",
    "    \"\"\"\n",
    "    sigmoid = 1/(1 + np.exp(-z))\n",
    "    \n",
    "    return sigmoid *(1-sigmoid) "
   ]
  },
  {
   "cell_type": "markdown",
   "id": "f32c7db8",
   "metadata": {},
   "source": [
    "### <a class=\"anchor\" id=\"randInitialization\">  6.3 - Random Initialization of the Weights </a>\n",
    "\n",
    "We have implemented the method learned in classes, where $L_{in}$ is the length of the input layer and $L_{out}$ is the length of the output layer of our network.\n",
    "\n",
    "Formula: $\\epsilon_{init} = \\frac{\\sqrt{6}}{\\sqrt{L_{in} + L_{out}}}$"
   ]
  },
  {
   "cell_type": "code",
   "execution_count": 24,
   "id": "ceramic-giving",
   "metadata": {},
   "outputs": [],
   "source": [
    "def randInitializeWeights(L_in, L_out):\n",
    "    \"\"\"\n",
    "    randomly initializes the weights of a layer with L_in incoming connections and L_out outgoing connections.\n",
    "    \"\"\"\n",
    "    \n",
    "    epi = (6**1/2) / (L_in + L_out)**1/2\n",
    "    \n",
    "    W = np.random.rand(L_out,L_in +1) *(2*epi) -epi\n",
    "    \n",
    "    return W"
   ]
  },
  {
   "cell_type": "markdown",
   "id": "d8b504de",
   "metadata": {},
   "source": [
    "### <a class=\"anchor\" id=\"gradDesc\"> 6.4 - Gradient Descent with Adaptive Learning Rate and Momentum </a>\n",
    "    \n",
    "For this, we decided to implement also the Adaptive Learning rate as it helped find a more suitable $\\alpha$ from the initial learning rate. We also added momentum for a better convergence as we experienced rapid convergences."
   ]
  },
  {
   "cell_type": "code",
   "execution_count": 25,
   "id": "flush-allah",
   "metadata": {},
   "outputs": [],
   "source": [
    "def gradientDescentnn(X,y,initial_nn_params,num_iters,Lambda, alpha, momentum, input_layer_size, hidden_layer_size, num_labels):\n",
    "    \"\"\"\n",
    "    Take in numpy array X, y and theta and update theta by taking num_iters gradient steps\n",
    "    with learning rate of alpha\n",
    "    \n",
    "    return theta and the list of the cost of theta during each iteration\n",
    "    \"\"\"\n",
    "    Theta1 = initial_nn_params[:((input_layer_size+1) * hidden_layer_size)].reshape(hidden_layer_size,input_layer_size+1)\n",
    "    Theta2 = initial_nn_params[((input_layer_size +1)* hidden_layer_size ):].reshape(num_labels,hidden_layer_size+1)\n",
    "    \n",
    "    m=len(y)\n",
    "    J_history =[]\n",
    "    b = 1\n",
    "    \n",
    "    theta1_history = []\n",
    "    theta2_history = []\n",
    "    for i in range(num_iters):\n",
    "        nn_params = np.append(Theta1.flatten(),Theta2.flatten())\n",
    "        cost, grad1, grad2 = nnCostFunction(nn_params,input_layer_size, hidden_layer_size, num_labels,X, y,Lambda)[3:]\n",
    "        if i > 0:\n",
    "            if (cost > J_history[-1]):\n",
    "                b = 0.2\n",
    "            if (cost <= J_history[-1]):\n",
    "                b = 1.2\n",
    "        if i < 2:\n",
    "            Theta1 = Theta1 - (b*alpha * grad1)\n",
    "            Theta2 = Theta2 - (b*alpha * grad2)\n",
    "        else:\n",
    "            Theta1 = Theta1 - (b*alpha * grad1) + momentum*(theta1_history[-1] - theta1_history[-2])\n",
    "            Theta2 = Theta2 - (b*alpha * grad2) + momentum*(theta2_history[-1] - theta2_history[-2]) \n",
    "        J_history.append(cost)\n",
    "        theta1_history.append(Theta1) \n",
    "        theta2_history.append(Theta2)\n",
    "     \n",
    "    nn_paramsFinal = np.append(Theta1.flatten(),Theta2.flatten())\n",
    "    return nn_paramsFinal , J_history"
   ]
  },
  {
   "cell_type": "markdown",
   "id": "6eef98bf",
   "metadata": {},
   "source": [
    "### <a class=\"anchor\" id=\"binClassPredFunc\"> 6.5 -  Binary Classification Prediction Function </a>"
   ]
  },
  {
   "cell_type": "code",
   "execution_count": 26,
   "id": "functional-assist",
   "metadata": {},
   "outputs": [],
   "source": [
    "def predict(Theta1, Theta2, X):\n",
    "    \"\"\"\n",
    "    Predict the label of an input given a trained neural network\n",
    "    \"\"\"\n",
    "    \n",
    "    #number of training examples\n",
    "    m= len(X) \n",
    "    # add an extra column of 1´s corresponding to xo=1\n",
    "    X = np.append(np.ones((X.shape[0], 1)), X, axis = 1)\n",
    "    \n",
    "    #Compute the output of the hidden layer (with sigmoid activation functions)\n",
    "    z1= np.dot(X, Theta1.T)  #Inputs to the hidden layer neurons\n",
    "    a1= sigmoid(z1)  #Outputs  of the hidden layer neurons\n",
    "    \n",
    "    #Add a column of ones\n",
    "    a1 = np.append(np.ones((m,1)),a1, axis=1) #?\n",
    "    \n",
    "    #Compute the output of the output layer (with sigmoid activation functions)\n",
    "    z2= np.dot(a1, Theta2.T)  #Inputs to the output layer neurons\n",
    "    a2= sigmoid(z2) #Outputs  of the output layer neurons\n",
    "    \n",
    "    return np.where(a2 > 0.5, 1, 0).reshape(m, 1) ## Binary Classification"
   ]
  },
  {
   "cell_type": "markdown",
   "id": "aa69bc27",
   "metadata": {},
   "source": [
    "### <a class=\"anchor\" id=\"testNNN\"> 6.6 - Testing the Neural Network  </a> \n",
    "\n",
    "For testing the Neural Network, we did not create a Confusion Matrix too see the accuracy with False/True Positives and Positives due to time constraints. Although we made predictions with the train set and the test set and compare between the two."
   ]
  },
  {
   "cell_type": "code",
   "execution_count": 27,
   "id": "thick-greek",
   "metadata": {
    "scrolled": true
   },
   "outputs": [],
   "source": [
    "x_nn = x_train\n",
    "y_nn = y_train\n",
    "\n",
    "xtest_nn = x_test\n",
    "ytest_nn = y_test\n",
    "\n",
    "input_layer_size  = x_nn.shape[1]\n",
    "hidden_layer_size = 4\n",
    "\n",
    "num_iters=500\n",
    "num_labels = 1 \n",
    "\n",
    "Lambda= 0.5\n",
    "alpha= 2.1\n",
    "momentum = 0.01\n",
    "\n",
    "Lambda_alt = 0.5 \n",
    "alpha_alt = 1.2\n",
    "momentum_alt = 0.5\n",
    "\n",
    "initial_Theta1 = randInitializeWeights(input_layer_size, hidden_layer_size)\n",
    "initial_Theta2 = randInitializeWeights(hidden_layer_size, num_labels)\n",
    "initial_nn_params = np.append(initial_Theta1.flatten(),initial_Theta2.flatten())\n",
    "\n",
    "nnTheta, nnJ_history = gradientDescentnn(x_nn,y_nn,initial_nn_params,num_iters,Lambda,alpha, momentum, input_layer_size, hidden_layer_size, num_labels)\n",
    "nnTheta_alt, nnJ_history_alt = gradientDescentnn(x_nn,y_nn,initial_nn_params,num_iters,Lambda_alt,alpha_alt, momentum_alt, input_layer_size, hidden_layer_size, num_labels)\n"
   ]
  },
  {
   "cell_type": "code",
   "execution_count": 28,
   "id": "8e319ce0",
   "metadata": {},
   "outputs": [
    {
     "data": {
      "text/plain": [
       "Text(0.5, 1.0, 'Cost function using Gradient Descent')"
      ]
     },
     "execution_count": 28,
     "metadata": {},
     "output_type": "execute_result"
    },
    {
     "data": {
      "image/png": "[encoded data removed]",
      "text/plain": [
       "<Figure size 432x288 with 1 Axes>"
      ]
     },
     "metadata": {},
     "output_type": "display_data"
    }
   ],
   "source": [
    "plt.plot(nnJ_history)  #\n",
    "plt.plot(nnJ_history_alt)\n",
    "plt.xlabel(\"Iteration\")\n",
    "plt.legend([\"Learning Rate = 2.1\", \"Learning Rate = 1.2\"]) \n",
    "plt.ylabel(\"$J(\\Theta)$\")\n",
    "plt.title(\"Cost function using Gradient Descent\")"
   ]
  },
  {
   "cell_type": "code",
   "execution_count": 29,
   "id": "2032daaf",
   "metadata": {
    "scrolled": true
   },
   "outputs": [
    {
     "name": "stdout",
     "output_type": "stream",
     "text": [
      "Train Set Accuracy: 90.169 %\n",
      "Test Set Accuracy: 90.971 %\n"
     ]
    }
   ],
   "source": [
    "Theta1 = nnTheta[:((input_layer_size+1) * hidden_layer_size)].reshape(hidden_layer_size,input_layer_size+1)\n",
    "Theta2 = nnTheta[((input_layer_size +1)* hidden_layer_size ):].reshape(num_labels,hidden_layer_size+1) \n",
    "\n",
    "pred_test = predict(Theta1, Theta2, xtest_nn)\n",
    "pred_train = predict(Theta1, Theta2, x_nn)\n",
    "print(\"Train Set Accuracy:\", round(sum(pred_train==y_nn)[0]/x_nn.shape[0]*100, 3), \"%\") \n",
    "print(\"Test Set Accuracy:\",round(sum(pred_test==ytest_nn)[0]/xtest_nn.shape[0]*100, 3),\"%\")  "
   ]
  },
  {
   "cell_type": "markdown",
   "id": "2af2c0bf",
   "metadata": {},
   "source": [
    "## <a class=\"anchor\" id=\"SVM\"> 7 - SVM </a>\n",
    "\n",
    "SVM is the last method implemented, and even though a 90% accuracy was already achieved, it as implemented to see if there was any chance of improving it."
   ]
  },
  {
   "cell_type": "code",
   "execution_count": 30,
   "id": "0793c8ad",
   "metadata": {},
   "outputs": [],
   "source": [
    "def make_meshgrid(x, y, h=.02):\n",
    "    x_min, x_max = x.min() - 0.1, x.max() + 0.1\n",
    "    y_min, y_max = y.min() - 0.1, y.max() + 0.1\n",
    "    xx, yy = np.meshgrid(np.arange(x_min, x_max, h), np.arange(y_min, y_max, h))\n",
    "    return xx, yy"
   ]
  },
  {
   "cell_type": "code",
   "execution_count": 31,
   "id": "268974e6",
   "metadata": {},
   "outputs": [],
   "source": [
    "def plot_contours(ax, clf, xx, yy, **params):\n",
    "    Z = clf.predict(np.c_[xx.ravel(), yy.ravel()])\n",
    "    Z = Z.reshape(xx.shape)\n",
    "    out = ax.contourf(xx, yy, Z, **params)\n",
    "    return out\n"
   ]
  },
  {
   "cell_type": "markdown",
   "id": "7ebaf21d",
   "metadata": {},
   "source": [
    "### <a class=\"anchor\" id=\"SVM_Classifier\"> 7.1 - Classifier </a>"
   ]
  },
  {
   "cell_type": "code",
   "execution_count": 32,
   "id": "24362aa2",
   "metadata": {},
   "outputs": [],
   "source": [
    "classifier = SVC(C=100, kernel=\"poly\")\n"
   ]
  },
  {
   "cell_type": "markdown",
   "id": "4d812ad7",
   "metadata": {},
   "source": [
    "### <a class=\"anchor\" id=\"SVMBest\"> 7.2 - Best SVM Score </a>"
   ]
  },
  {
   "cell_type": "code",
   "execution_count": 33,
   "id": "51a4d06b",
   "metadata": {},
   "outputs": [
    {
     "name": "stdout",
     "output_type": "stream",
     "text": [
      "Score do Train set:  88.136\n"
     ]
    },
    {
     "data": {
      "text/plain": [
       "<matplotlib.collections.PathCollection at 0x7fcd07556340>"
      ]
     },
     "execution_count": 33,
     "metadata": {},
     "output_type": "execute_result"
    },
    {
     "data": {
      "image/png": "[encoded data removed]",
      "text/plain": [
       "<Figure size 432x288 with 1 Axes>"
      ]
     },
     "metadata": {},
     "output_type": "display_data"
    }
   ],
   "source": [
    "clf = classifier.fit(x_train[:,-2:], np.ravel(y_train))\n",
    "print(\"Score do Train set: \", round((classifier.score(x_train[:, -2:], y_train)*100), 3))\n",
    "ax = plt.subplot()\n",
    "\n",
    "# Generate grid\n",
    "xx, yy = make_meshgrid(x_train[:,3], x_train[:,4]) \n",
    "plot_contours(ax, clf, xx, yy, cmap=plt.cm.coolwarm, alpha = 0.2)\n",
    "ax.scatter(x_train[:, 3], x_train[:, 4], c=y_train, cmap=plt.cm.coolwarm, s=20, edgecolors='k')\n"
   ]
  },
  {
   "cell_type": "markdown",
   "id": "c62759fd",
   "metadata": {},
   "source": [
    "### <a class=\"anchor\" id=\"SVMSec\"> 7.3 - Second Example </a>"
   ]
  },
  {
   "cell_type": "code",
   "execution_count": 34,
   "id": "b8a61bf4",
   "metadata": {
    "scrolled": true
   },
   "outputs": [
    {
     "name": "stdout",
     "output_type": "stream",
     "text": [
      "Score do Train set : 83.39\n"
     ]
    },
    {
     "data": {
      "text/plain": [
       "<matplotlib.collections.PathCollection at 0x7fcd08472910>"
      ]
     },
     "execution_count": 34,
     "metadata": {},
     "output_type": "execute_result"
    },
    {
     "data": {
      "image/png": "[encoded data removed]",
      "text/plain": [
       "<Figure size 432x288 with 1 Axes>"
      ]
     },
     "metadata": {},
     "output_type": "display_data"
    }
   ],
   "source": [
    "clf = classifier.fit(x_train[:,:2], np.ravel(y_train))\n",
    "print(\"Score do Train set :\", round((classifier.score(x_train[:,:2], y_train)*100), 3))\n",
    "ax = plt.subplot()\n",
    "# Generate grid\n",
    "xx, yy = make_meshgrid(x_train[:,0], x_train[:,1])\n",
    "plot_contours(ax, clf, xx, yy, cmap=plt.cm.coolwarm, alpha = 0.2)\n",
    "ax.scatter(x_train[:, 0], x_train[:, 1], c=y_train, cmap=plt.cm.coolwarm, s=20, edgecolors='k')\n"
   ]
  },
  {
   "cell_type": "markdown",
   "id": "30c7dcd3",
   "metadata": {},
   "source": [
    "### <a class=\"anchor\" id=\"KFold\"> 7.4 - KFold </a>\n",
    "\n",
    "Dividing the data in Traing and Testing sets to cross validate and get Balanced Accuracy and F1 Scores."
   ]
  },
  {
   "cell_type": "code",
   "execution_count": 35,
   "id": "45262135-fe3c-435d-a8a6-e16fa469c4f4",
   "metadata": {},
   "outputs": [
    {
     "name": "stdout",
     "output_type": "stream",
     "text": [
      "Average Balanced Accuracy on Train Set:  89.632\n",
      "Average F1 Score on Train Set:  88.122\n",
      "Average Balanced Accuracy on Test Set:  89.624\n",
      "Average F1 Score on Train Set:  88.096\n"
     ]
    }
   ],
   "source": [
    "balanced_arrayTrain = []\n",
    "f1_arrayTrain = []\n",
    "balanced_arrayTest = []\n",
    "f1_arrayTest = []\n",
    "matrixTrain = []\n",
    "matrixTest = []\n",
    "clf = SVC(kernel = 'poly', C=100).fit(x_train, y_train.ravel())\n",
    "kf = KFold(n_splits=5, shuffle=True)\n",
    "for train, test in kf.split(x_data):\n",
    "    x_train, x_test = x_data[train], x_data[test]\n",
    "    y_train, y_test = y_data[train], y_data[test]\n",
    "\n",
    "    predictedTrain = clf.predict(x_train)\n",
    "    predictedTest = clf.predict(x_test)\n",
    "    \n",
    "    confusion_train = confusion_matrix(y_train, predictedTrain.reshape(len(predictedTrain),1))\n",
    "    TP_train, TN_train, FP_train, FN_train = confusion_train[1, 1], confusion_train[0, 0], confusion_train[0, 1], confusion_train[1, 0]\n",
    "    matrixTrain.append([TP_train, TN_train, FP_train, FN_train])\n",
    "    specificity = (TN_train)/(TN_train + FP_train)\n",
    "    accuracy_train = (TP_train+TN_train)/float(TP_train+TN_train+FP_train+FN_train)\n",
    "    precision_train = (TP_train)/(TP_train + FP_train)\n",
    "    recall_train = (TP_train)/(TP_train + FN_train)\n",
    "    balanced_accuracy = (recall_train + specificity)/2\n",
    "    balanced_arrayTrain.append(balanced_accuracy)\n",
    "    F1_score_train = 2*((precision_train*recall_train)/(precision_train+recall_train))\n",
    "    f1_arrayTrain.append(F1_score_train)\n",
    "    \n",
    "    confusion_test = confusion_matrix(y_test, predictedTest.reshape(len(predictedTest),1))\n",
    "    TP_test, TN_test, FP_test, FN_test = confusion_test[1, 1], confusion_test[0, 0], confusion_test[0, 1], confusion_test[1, 0]\n",
    "    matrixTest.append([TP_test, TN_test, FP_test, FN_test])\n",
    "    specificity = (TN_test)/(TN_test + FP_test)\n",
    "    accuracy_test = (TP_test+TN_test)/float(TP_test+TN_test+FP_test+FN_test)\n",
    "    precision_test = (TP_test)/(TP_test + FP_test)\n",
    "    recall_test = (TP_test)/(TP_test + FN_test)\n",
    "    balanced_accuracy = (recall_test + specificity)/2\n",
    "    balanced_arrayTest.append(balanced_accuracy)\n",
    "    F1_score_test = 2*((precision_test*recall_test)/(precision_test+recall_test))\n",
    "    f1_arrayTest.append(F1_score_test)\n",
    "    \n",
    "    \n",
    "    \n",
    "print(\"Average Balanced Accuracy on Train Set: \", round((np.sum(balanced_arrayTrain)/len(balanced_arrayTrain)*100),3))\n",
    "print(\"Average F1 Score on Train Set: \", round((np.sum(f1_arrayTrain)/len(f1_arrayTrain)*100),3))\n",
    "print(\"Average Balanced Accuracy on Test Set: \", round((np.sum(balanced_arrayTest)/len(balanced_arrayTest)*100),3))\n",
    "print(\"Average F1 Score on Train Set: \", round((np.sum(f1_arrayTest)/len(f1_arrayTest)*100),3))\n",
    "\n",
    "avgMatrixTrain = [sum(vals)/len(matrixTrain) for vals in zip(*matrixTrain)]\n",
    "avgMatrixTest = [sum(vals)/len(matrixTest) for vals in zip(*matrixTest)]\n",
    "\n",
    "finalTrain = np.array(avgMatrixTrain).reshape((2,2))\n",
    "finalTest = np.array(avgMatrixTest).reshape((2,2))"
   ]
  },
  {
   "cell_type": "code",
   "execution_count": 36,
   "id": "ac1ace0b-9992-4d64-9952-14e02ecbadee",
   "metadata": {},
   "outputs": [
    {
     "data": {
      "image/png": "[encoded data removed]",
      "text/plain": [
       "<Figure size 576x288 with 4 Axes>"
      ]
     },
     "metadata": {},
     "output_type": "display_data"
    }
   ],
   "source": [
    "fig, (ax1, ax2) = plt.subplots(1, 2, figsize=(8, 4))\n",
    "labels = ['True Neg','False Pos','False Neg','True Pos']\n",
    "labels = np.array(labels).reshape(2,2)\n",
    "sns.heatmap(data=finalTrain, ax=ax1, annot=True)\n",
    "sns.heatmap(data=finalTest, ax=ax2, annot=True)\n",
    "ax1.set_title(\"Confusion Matrix for Train Set\")\n",
    "ax2.set_title(\"Confusion Matrix for Test Set\")\n",
    "ax1.set_ylabel('Actual')\n",
    "ax1.set_xlabel('Predicted')\n",
    "ax2.set_ylabel('Actual')\n",
    "ax2.set_xlabel('Predicted')\n",
    "plt.show()"
   ]
  },
  {
   "cell_type": "code",
   "execution_count": null,
   "id": "575fac69",
   "metadata": {},
   "outputs": [],
   "source": []
  }
 ],
 "metadata": {
  "kernelspec": {
   "display_name": "Python 3",
   "language": "python",
   "name": "python3"
  },
  "language_info": {
   "codemirror_mode": {
    "name": "ipython",
    "version": 3
   },
   "file_extension": ".py",
   "mimetype": "text/x-python",
   "name": "python",
   "nbconvert_exporter": "python",
   "pygments_lexer": "ipython3",
   "version": "3.8.8"
  }
 },
 "nbformat": 4,
 "nbformat_minor": 5
}
